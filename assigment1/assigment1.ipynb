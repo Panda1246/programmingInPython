{
 "cells": [
  {
   "cell_type": "code",
   "execution_count": null,
   "id": "21628ab0-8f81-420a-bc0f-8b6be39c3db7",
   "metadata": {
    "ExecuteTime": {
     "start_time": "2024-10-26T19:49:08.654548Z"
    }
   },
   "outputs": [],
   "source": [
    "import pandas as pd\n",
    "\n",
    "file_path = 'data.csv'\n",
    "column_names = ['sex', 'length', 'diameter', 'height', 'whole weight', 'shucked weight', 'viscera weight', 'shell weight', 'rings']\n",
    "\n",
    "data = pd.read_csv(file_path, header=None, names=column_names)\n",
    "\n",
    "qualitative_variable_list = []\n",
    "\n",
    "for i in ['M', 'I', 'F']:\n",
    "    qualitative_variable_list.append(data['sex'][data['sex'] == i].count())\n",
    "qualitative_variable_list_percentage = [(i/sum(qualitative_variable_list)*100).round(2) for i in qualitative_variable_list]\n",
    "\n",
    "\n",
    "\n",
    "sex_table = pd.DataFrame({\"\":['Male', 'Infant', 'Female'], \"Count\":qualitative_variable_list, \"%\":qualitative_variable_list_percentage})\n",
    "\n",
    "print(sex_table.to_string(index=False))\n",
    "\n",
    "\n"
   ]
  },
  {
   "cell_type": "code",
   "execution_count": 19,
   "id": "1e44bf8c-e58e-4050-8d4c-9fa591b93430",
   "metadata": {
    "ExecuteTime": {
     "end_time": "2024-10-26T19:46:35.060856Z",
     "start_time": "2024-10-26T19:46:34.234828Z"
    }
   },
   "outputs": [
    {
     "data": {
      "text/plain": "<pandas.io.formats.style.Styler at 0x187521353d0>",
      "text/html": "<style type=\"text/css\">\n</style>\n<table id=\"T_94fa7\">\n  <thead>\n    <tr>\n      <th class=\"blank level0\" >&nbsp;</th>\n      <th id=\"T_94fa7_level0_col0\" class=\"col_heading level0 col0\" >COUNT</th>\n      <th id=\"T_94fa7_level0_col1\" class=\"col_heading level0 col1\" >%</th>\n    </tr>\n  </thead>\n  <tbody>\n    <tr>\n      <th id=\"T_94fa7_level0_row0\" class=\"row_heading level0 row0\" >Male</th>\n      <td id=\"T_94fa7_row0_col0\" class=\"data row0 col0\" >1528</td>\n      <td id=\"T_94fa7_row0_col1\" class=\"data row0 col1\" >36,58</td>\n    </tr>\n    <tr>\n      <th id=\"T_94fa7_level0_row1\" class=\"row_heading level0 row1\" >Infant</th>\n      <td id=\"T_94fa7_row1_col0\" class=\"data row1 col0\" >1342</td>\n      <td id=\"T_94fa7_row1_col1\" class=\"data row1 col1\" >32,13</td>\n    </tr>\n    <tr>\n      <th id=\"T_94fa7_level0_row2\" class=\"row_heading level0 row2\" >Female</th>\n      <td id=\"T_94fa7_row2_col0\" class=\"data row2 col0\" >1307</td>\n      <td id=\"T_94fa7_row2_col1\" class=\"data row2 col1\" >31,29</td>\n    </tr>\n  </tbody>\n</table>\n"
     },
     "execution_count": 19,
     "metadata": {},
     "output_type": "execute_result"
    }
   ],
   "source": []
  },
  {
   "cell_type": "code",
   "outputs": [],
   "source": [],
   "metadata": {
    "collapsed": false
   },
   "id": "166d2477d0a84c71"
  }
 ],
 "metadata": {
  "kernelspec": {
   "display_name": "Python 3 (ipykernel)",
   "language": "python",
   "name": "python3"
  },
  "language_info": {
   "codemirror_mode": {
    "name": "ipython",
    "version": 3
   },
   "file_extension": ".py",
   "mimetype": "text/x-python",
   "name": "python",
   "nbconvert_exporter": "python",
   "pygments_lexer": "ipython3",
   "version": "3.9.13"
  }
 },
 "nbformat": 4,
 "nbformat_minor": 5
}
