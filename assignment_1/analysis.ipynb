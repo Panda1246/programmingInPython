{
 "cells": [
  {
   "cell_type": "code",
   "execution_count": 3,
   "metadata": {},
   "outputs": [
    {
     "data": {
      "text/html": [
       "<div>\n",
       "<style scoped>\n",
       "    .dataframe tbody tr th:only-of-type {\n",
       "        vertical-align: middle;\n",
       "    }\n",
       "\n",
       "    .dataframe tbody tr th {\n",
       "        vertical-align: top;\n",
       "    }\n",
       "\n",
       "    .dataframe thead th {\n",
       "        text-align: right;\n",
       "    }\n",
       "</style>\n",
       "<table border=\"1\" class=\"dataframe\">\n",
       "  <thead>\n",
       "    <tr style=\"text-align: right;\">\n",
       "      <th></th>\n",
       "      <th>Count:</th>\n",
       "      <th>%</th>\n",
       "    </tr>\n",
       "  </thead>\n",
       "  <tbody>\n",
       "    <tr>\n",
       "      <th>Male</th>\n",
       "      <td>1528</td>\n",
       "      <td>36.58</td>\n",
       "    </tr>\n",
       "    <tr>\n",
       "      <th>Infant</th>\n",
       "      <td>1342</td>\n",
       "      <td>32.13</td>\n",
       "    </tr>\n",
       "    <tr>\n",
       "      <th>Female</th>\n",
       "      <td>1307</td>\n",
       "      <td>31.29</td>\n",
       "    </tr>\n",
       "  </tbody>\n",
       "</table>\n",
       "</div>"
      ],
      "text/plain": [
       "        Count:      %\n",
       "Male      1528  36.58\n",
       "Infant    1342  32.13\n",
       "Female    1307  31.29"
      ]
     },
     "metadata": {},
     "output_type": "display_data"
    }
   ],
   "source": [
    "import pandas as pd \n",
    "import matplotlib as mpl \n",
    "\n",
    "dataFrame = pd.read_csv(\"data.csv\", names=(\"sex\", \"length\", \"diameter\", \"height\", \"whole weight\", \n",
    "                        \"shucked weight\", \"viscera weight\", \"shell weight\", \"rings\"))\n",
    "\n",
    "sex = dataFrame[\"sex\"]\n",
    "mNumber = 0\n",
    "fNumber = 0\n",
    "iNumber = 0\n",
    "totalRows = sex.count()\n",
    "for s in sex:\n",
    "    if s == \"M\":\n",
    "        mNumber += 1\n",
    "    elif s == \"F\":\n",
    "        fNumber += 1\n",
    "    elif s == \"I\":\n",
    "        iNumber += 1\n",
    "\n",
    "mPercent = round(mNumber / totalRows * 100, 2) \n",
    "iPercent = round(iNumber / totalRows * 100, 2) \n",
    "fPercent = round(fNumber / totalRows * 100, 2) \n",
    "\n",
    "distributionData = {\n",
    "    \"Count:\": [mNumber, iNumber, fNumber] ,\n",
    "    \"%\": [mPercent, iPercent, fPercent]\n",
    "\n",
    "}\n",
    "\n",
    "distDf = pd.DataFrame(distributionData, index=[\"Male\", \"Infant\", \"Female\"])\n",
    "display(distDf)"
   ]
  },
  {
   "cell_type": "code",
   "execution_count": 21,
   "metadata": {},
   "outputs": [
    {
     "name": "stdout",
     "output_type": "stream",
     "text": [
      "0       0.455\n",
      "1       0.350\n",
      "2       0.530\n",
      "3       0.440\n",
      "4       0.330\n",
      "        ...  \n",
      "4172    0.565\n",
      "4173    0.590\n",
      "4174    0.600\n",
      "4175    0.625\n",
      "4176    0.710\n",
      "Name: length, Length: 4177, dtype: float64\n",
      "0       M\n",
      "1       M\n",
      "2       F\n",
      "3       M\n",
      "4       I\n",
      "       ..\n",
      "4172    F\n",
      "4173    M\n",
      "4174    M\n",
      "4175    F\n",
      "4176    M\n",
      "Name: sex, Length: 4177, dtype: object\n"
     ]
    }
   ],
   "source": [
    "columns = dataFrame.columns\n",
    "print(dataFrame['length'])\n",
    "\n",
    "\n",
    "\n",
    "summaryStatistics =  {\n",
    "    \"mean\": [],\n",
    "    \"std\": [],\n",
    "    \"min\": [],\n",
    "    \"25%\": [],\n",
    "    \"50%\": [],\n",
    "    \"75%\": [],\n",
    "    \"max:\": []\n",
    "}\n",
    "\n",
    "print(dataFrame[columns[0]])\n",
    "\n",
    "for column in range(1, len(columns)):\n",
    "    \n",
    "\n",
    "\n",
    "summaryDf = pd.DataFrame(summaryStatistics)\n",
    "\n",
    "\n",
    "\n"
   ]
  }
 ],
 "metadata": {
  "kernelspec": {
   "display_name": "venv",
   "language": "python",
   "name": "python3"
  },
  "language_info": {
   "codemirror_mode": {
    "name": "ipython",
    "version": 3
   },
   "file_extension": ".py",
   "mimetype": "text/x-python",
   "name": "python",
   "nbconvert_exporter": "python",
   "pygments_lexer": "ipython3",
   "version": "3.11.2"
  }
 },
 "nbformat": 4,
 "nbformat_minor": 2
}
